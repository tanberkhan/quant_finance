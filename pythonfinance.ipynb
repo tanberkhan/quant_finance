{
 "cells": [
  {
   "cell_type": "code",
   "execution_count": 9,
   "id": "45761858",
   "metadata": {},
   "outputs": [
    {
     "name": "stdout",
     "output_type": "stream",
     "text": [
      "{'phone': '800-523-1036', 'longBusinessSummary': 'The fund employs an indexing investment approach designed to track the performance of the index, which represents approximately 100% of the investable U.S. stock market and includes large-, mid-, small-, and micro-cap stocks. It invests by sampling the index, meaning that it holds a broadly diversified collection of securities that, in the aggregate, approximates the full index in terms of key characteristics.', 'maxAge': 86400, 'priceHint': 2, 'previousClose': 204.97, 'open': 204.47, 'dayLow': 203.49, 'dayHigh': 204.7, 'regularMarketPreviousClose': 204.97, 'regularMarketOpen': 204.47, 'regularMarketDayLow': 203.49, 'regularMarketDayHigh': 204.7, 'trailingPE': 19.251524, 'volume': 2106275, 'regularMarketVolume': 2106275, 'averageVolume': 2933070, 'averageVolume10days': 2388780, 'averageDailyVolume10Day': 2388780, 'bid': 204.85, 'ask': 204.65, 'bidSize': 900, 'askSize': 1200, 'yield': 0.015800001, 'totalAssets': 1264385654784, 'fiftyTwoWeekLow': 174.84, 'fiftyTwoWeekHigh': 217.2, 'fiftyDayAverage': 201.4318, 'twoHundredDayAverage': 198.61134, 'trailingAnnualDividendRate': 2.802, 'trailingAnnualDividendYield': 0.013670294, 'navPrice': 204.96, 'currency': 'USD', 'category': 'Large Blend', 'ytdReturn': 0.076381795, 'beta3Year': 1.01, 'fundFamily': 'Vanguard', 'fundInceptionDate': 990662400, 'legalType': 'Exchange Traded Fund', 'threeYearAverageReturn': 0.1331963, 'fiveYearAverageReturn': 0.0971966, 'exchange': 'PCX', 'quoteType': 'ETF', 'symbol': 'VTI', 'underlyingSymbol': 'VTI', 'shortName': 'Vanguard Total Stock Market ETF', 'longName': 'Vanguard Total Stock Market Index Fund', 'firstTradeDateEpochUtc': 992611800, 'timeZoneFullName': 'America/New_York', 'timeZoneShortName': 'EDT', 'uuid': 'ae6e3292-e53d-304b-a161-26123c4e2754', 'messageBoardId': 'finmb_6184536', 'gmtOffSetMilliseconds': -14400000, 'trailingPegRatio': None}\n",
      "Total assets value: 1264385654784\n"
     ]
    }
   ],
   "source": [
    "import yfinance as yf\n",
    "\n",
    "symbol='VTI'\n",
    "# Create a Ticker object for VTI\n",
    "ticker = yf.Ticker(symbol)\n",
    "print(ticker.info)\n",
    "print(f\"Total assets value: {ticker.info['totalAssets']}\")\n",
    "\n"
   ]
  },
  {
   "cell_type": "code",
   "execution_count": 10,
   "id": "e5b5eca4",
   "metadata": {},
   "outputs": [
    {
     "name": "stdout",
     "output_type": "stream",
     "text": [
      "[*********************100%***********************]  1 of 1 completed\n",
      "                  Open        High         Low       Close   Adj Close   \n",
      "Date                                                                     \n",
      "2018-05-14  140.940002  141.300003  140.389999  140.639999  129.198410  \\\n",
      "2018-05-15  139.949997  140.110001  139.339996  139.789993  128.417557   \n",
      "2018-05-16  139.850006  140.759995  139.850006  140.470001  129.042252   \n",
      "2018-05-17  140.380005  141.039993  140.020004  140.509995  129.079010   \n",
      "2018-05-18  140.360001  140.509995  139.970001  140.199997  128.794235   \n",
      "\n",
      "             Volume  \n",
      "Date                 \n",
      "2018-05-14  1396900  \n",
      "2018-05-15  2279700  \n",
      "2018-05-16  1345900  \n",
      "2018-05-17  1658500  \n",
      "2018-05-18   910200  \n"
     ]
    }
   ],
   "source": [
    "# Retrieve the data for the past 5 years\n",
    "vtiData = yf.download(symbol, period='5y')\n",
    "\n",
    "# Print the first 5 rows of the data\n",
    "print(vtiData.head())"
   ]
  },
  {
   "cell_type": "code",
   "execution_count": 11,
   "id": "da28dd85",
   "metadata": {},
   "outputs": [
    {
     "name": "stdout",
     "output_type": "stream",
     "text": [
      "                  Open        High         Low       Close   Adj Close   \n",
      "Date                                                                     \n",
      "2023-05-05  202.850006  205.270004  202.789993  204.690002  204.690002  \\\n",
      "2023-05-08  204.929993  205.100006  204.119995  204.910004  204.910004   \n",
      "2023-05-09  204.029999  204.630005  203.800003  204.070007  204.070007   \n",
      "2023-05-10  205.619995  205.940002  203.050003  204.970001  204.970001   \n",
      "2023-05-11  204.470001  204.699997  203.490005  204.699997  204.699997   \n",
      "\n",
      "             Volume  12MomentumFactor  6MomentumFactor  \n",
      "Date                                                    \n",
      "2023-05-05  1941600         -0.034142         0.096445  \n",
      "2023-05-08  2632600          0.003920         0.108215  \n",
      "2023-05-09  1802500          0.007912         0.089652  \n",
      "2023-05-10  2677600          0.049559         0.084584  \n",
      "2023-05-11  2106275          0.046070         0.077504  \n"
     ]
    }
   ],
   "source": [
    "# Calculate the 12-month and 6-month price momentum factors\n",
    "vtiData['12MomentumFactor'] = vtiData['Adj Close'].pct_change(periods=252)\n",
    "vtiData['6MomentumFactor'] = vtiData['Adj Close'].pct_change(periods=126)\n",
    "\n",
    "# Print the last 5 rows of the data, including the momentum factors\n",
    "print(vtiData.tail())"
   ]
  },
  {
   "cell_type": "code",
   "execution_count": 2,
   "id": "4b028c52",
   "metadata": {},
   "outputs": [
    {
     "name": "stdout",
     "output_type": "stream",
     "text": [
      "[*********************100%***********************]  41 of 41 completed\n",
      "Long Basket:  [Timestamp('2021-03-31 00:00:00'), Timestamp('2021-10-31 00:00:00'), Timestamp('2021-04-30 00:00:00'), Timestamp('2021-06-30 00:00:00'), Timestamp('2021-05-31 00:00:00'), Timestamp('2021-07-31 00:00:00'), Timestamp('2021-08-31 00:00:00'), Timestamp('2019-12-31 00:00:00'), Timestamp('2021-09-30 00:00:00'), Timestamp('2022-01-31 00:00:00')]\n",
      "Short Basket:  [Timestamp('2022-09-30 00:00:00'), Timestamp('2020-03-31 00:00:00'), Timestamp('2022-08-31 00:00:00'), Timestamp('2022-12-31 00:00:00'), Timestamp('2022-10-31 00:00:00'), Timestamp('2022-06-30 00:00:00'), Timestamp('2023-03-31 00:00:00'), Timestamp('2023-01-31 00:00:00'), Timestamp('2023-02-28 00:00:00'), Timestamp('2022-07-31 00:00:00')]\n"
     ]
    }
   ],
   "source": [
    "import pandas as pd\n",
    "import yfinance as yf\n",
    "import numpy as np\n",
    "\n",
    "# Define the list of tickers\n",
    "tickers = ['AAPL', 'MSFT', 'AMZN',  'GOOG', 'GOOGL', 'JPM', 'BRK-A', 'BRK-B', 'JNJ', 'V', 'PG', 'MA', 'UNH', 'HD', 'DIS', 'VZ', 'KO', 'PEP', 'T', 'PFE', 'MRK', 'XOM', 'CVX', 'WMT', 'INTC', 'CSCO', 'ORCL', 'IBM', 'BA', 'MMM', 'HON', 'GE', 'CAT', 'NKE', 'MCD', 'WBA', 'AXP', 'GS', 'JPM', 'C', 'MS', 'BAC', 'AAPL', 'MSFT', 'AMZN',  'GOOG', 'GOOGL']\n",
    "\n",
    "# Define the start and end dates for the historical data\n",
    "start_date = '2016-05-01'\n",
    "end_date = '2021-05-01'\n",
    "\n",
    "# Download historical data for each ticker\n",
    "historical_data = yf.download(tickers, period='5y')['Adj Close']\n",
    "\n",
    "# Calculate the monthly returns for each asset\n",
    "monthly_returns = historical_data.resample('M').ffill().pct_change().dropna()\n",
    "\n",
    "# Calculate the price momentum factors for each asset\n",
    "price_momentum_factors = (monthly_returns + 1).rolling(12).apply(np.prod, raw=True) - 1\n",
    "\n",
    "# Calculate the mean and standard deviation of the price momentum factors for each asset\n",
    "mean_price_momentum_factors = price_momentum_factors.mean(axis=0)\n",
    "std_price_momentum_factors = price_momentum_factors.std(axis=0)\n",
    "\n",
    "# Calculate the z-factor score for each asset\n",
    "z_factor_score = ((price_momentum_factors - mean_price_momentum_factors) / std_price_momentum_factors).dropna()\n",
    "\n",
    "# Identify the top 10 assets with the highest z-factor score as the long basket\n",
    "long_basket = z_factor_score.mean(axis=1).nlargest(10).index.tolist()\n",
    "\n",
    "# Identify the top 10 assets with the lowest z-factor score as the short basket\n",
    "short_basket = z_factor_score.mean(axis=1).nsmallest(10).index.tolist()\n",
    "\n",
    "# Print the long and short baskets\n",
    "print(\"Long Basket: \", long_basket)\n",
    "print(\"Short Basket: \", short_basket)\n"
   ]
  },
  {
   "cell_type": "code",
   "execution_count": 15,
   "id": "35b02e8d",
   "metadata": {},
   "outputs": [
    {
     "name": "stdout",
     "output_type": "stream",
     "text": [
      "[*********************100%***********************]  4 of 4 completed\n",
      "Long Baskets: []\n",
      "Short Baskets: []\n"
     ]
    }
   ],
   "source": [
    "# Sort the assets by their z-factor score for the first month\n",
    "import yfinance as yf\n",
    "import pandas as pd\n",
    "import numpy as np\n",
    "\n",
    "# Define the list of assets to analyze\n",
    "tickers = ['AAPL', 'MSFT', 'AMZN', 'GOOGL']\n",
    "\n",
    "# Define the price momentum factors to use\n",
    "factors = ['Close', 'Volume']\n",
    "\n",
    "# Define the lookback period (in months)\n",
    "lookback_period = 12\n",
    "\n",
    "# Define the number of assets to include in each basket\n",
    "num_assets = 10\n",
    "\n",
    "# Download historical data for the tickers\n",
    "data = yf.download(tickers, start='2016-02-01')\n",
    "\n",
    "# Calculate the monthly returns for each asset\n",
    "returns = data[factors].pct_change().resample('M').mean()\n",
    "\n",
    "# Calculate the mean and standard deviation of each factor over the lookback period\n",
    "factor_means = returns[factors].rolling(window=lookback_period).mean().shift(1)\n",
    "factor_stddevs = returns[factors].rolling(window=lookback_period).std().shift(1)\n",
    "\n",
    "# Calculate the z-score for each factor for each asset at each month\n",
    "z_scores = (returns[factors] - factor_means) / factor_stddevs\n",
    "\n",
    "# Calculate the z-factor score for each asset at each month\n",
    "z_factor_scores = z_scores.mean(axis=1)\n",
    "\n",
    "# Identify the rebalancing dates (i.e., the last day of each month)\n",
    "rebalancing_dates = z_factor_scores.index.to_period('M').unique().to_timestamp()\n",
    "\n",
    "# Identify the long and short baskets for each month\n",
    "long_baskets = []\n",
    "short_baskets = []\n",
    "\n",
    "for date in rebalancing_dates:\n",
    "    try:\n",
    "        # Sort assets by z-factor score and select the top and bottom performers\n",
    "        ranked_assets = z_factor_scores[date].sort_values(ascending=False)\n",
    "        long_assets = ranked_assets[:num_assets].index.tolist()\n",
    "        short_assets = ranked_assets[-num_assets:].index.tolist()\n",
    "\n",
    "        # Add the long and short baskets to the respective lists\n",
    "        long_baskets.append(long_assets)\n",
    "        short_baskets.append(short_assets)\n",
    "    except KeyError:\n",
    "        # Skip this month if data is not available for all assets\n",
    "        continue\n",
    "\n",
    "# Output the results\n",
    "print(\"Long Baskets:\", long_baskets)\n",
    "print(\"Short Baskets:\", short_baskets)\n"
   ]
  },
  {
   "cell_type": "code",
   "execution_count": null,
   "id": "579ed18e",
   "metadata": {},
   "outputs": [],
   "source": []
  }
 ],
 "metadata": {
  "kernelspec": {
   "display_name": "Python 3 (ipykernel)",
   "language": "python",
   "name": "python3"
  },
  "language_info": {
   "codemirror_mode": {
    "name": "ipython",
    "version": 3
   },
   "file_extension": ".py",
   "mimetype": "text/x-python",
   "name": "python",
   "nbconvert_exporter": "python",
   "pygments_lexer": "ipython3",
   "version": "3.9.6"
  }
 },
 "nbformat": 4,
 "nbformat_minor": 5
}
